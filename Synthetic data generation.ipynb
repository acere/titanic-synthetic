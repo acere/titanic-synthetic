{
 "cells": [
  {
   "cell_type": "markdown",
   "metadata": {},
   "source": [
    "# Generate synthetic dataset"
   ]
  },
  {
   "cell_type": "code",
   "execution_count": 1,
   "metadata": {},
   "outputs": [],
   "source": [
    "import json\n",
    "import numpy as np\n",
    "import pandas as pd\n",
    "import pickle\n",
    "\n",
    "from pathlib import Path\n",
    "from scripts.preparation_fcns import *"
   ]
  },
  {
   "cell_type": "code",
   "execution_count": 2,
   "metadata": {},
   "outputs": [],
   "source": [
    "%load_ext autoreload\n",
    "%autoreload 2\n",
    "\n",
    "pd.options.mode.chained_assignment = None"
   ]
  },
  {
   "cell_type": "markdown",
   "metadata": {},
   "source": [
    "## Import raw data"
   ]
  },
  {
   "cell_type": "code",
   "execution_count": 3,
   "metadata": {},
   "outputs": [],
   "source": [
    "train_file = Path('data/raw/train.csv')"
   ]
  },
  {
   "cell_type": "code",
   "execution_count": 4,
   "metadata": {},
   "outputs": [],
   "source": [
    "df = process_dataset(train_file)"
   ]
  },
  {
   "cell_type": "markdown",
   "metadata": {
    "toc-hr-collapsed": false
   },
   "source": [
    "## Prepare table Metadata"
   ]
  },
  {
   "cell_type": "code",
   "execution_count": 5,
   "metadata": {},
   "outputs": [],
   "source": [
    "fields_dic = prepare_dict(df)"
   ]
  },
  {
   "cell_type": "code",
   "execution_count": 6,
   "metadata": {},
   "outputs": [],
   "source": [
    "table_dic = {\"path\": \"\",\n",
    "        \"headers\": True,\n",
    "        \"name\": \"titanic\",\n",
    "        \"path\": \"titanic.csv\",\n",
    "        \"primary_key\": \"PassengerId\",\n",
    "        \"use\": True,\n",
    "        'fields': fields_dic\n",
    "}    "
   ]
  },
  {
   "cell_type": "code",
   "execution_count": 7,
   "metadata": {},
   "outputs": [],
   "source": [
    "meta_dic = {'tables':[table_dic],\n",
    "           'path':''}"
   ]
  },
  {
   "cell_type": "code",
   "execution_count": 8,
   "metadata": {},
   "outputs": [],
   "source": [
    "with open('data/temp/meta_titanic.json', 'w') as f:\n",
    "    json.dump(meta_dic, f)"
   ]
  },
  {
   "cell_type": "code",
   "execution_count": 9,
   "metadata": {},
   "outputs": [],
   "source": [
    "df.to_csv('data/temp/titanic.csv', index_label='PassengerId')"
   ]
  },
  {
   "cell_type": "markdown",
   "metadata": {},
   "source": [
    "## Load data in the model and fit it"
   ]
  },
  {
   "cell_type": "code",
   "execution_count": 10,
   "metadata": {},
   "outputs": [],
   "source": [
    "from sdv.data_navigator import CSVDataLoader\n",
    "from sdv.data_navigator import Table\n",
    "from sdv.modeler import Modeler\n",
    "from sdv.sampler import Sampler"
   ]
  },
  {
   "cell_type": "code",
   "execution_count": 11,
   "metadata": {},
   "outputs": [],
   "source": [
    "data_loader = CSVDataLoader('data/temp/meta_titanic.json')\n",
    "data_navigator = data_loader.load_data()"
   ]
  },
  {
   "cell_type": "code",
   "execution_count": 12,
   "metadata": {},
   "outputs": [],
   "source": [
    "# Transform data\n",
    "data_navigator.transform_data();"
   ]
  },
  {
   "cell_type": "code",
   "execution_count": 13,
   "metadata": {},
   "outputs": [],
   "source": [
    "modeler = Modeler(data_navigator)\n",
    "\n",
    "# Model the dataset/database\n",
    "modeler.model_database()\n",
    "sampler = Sampler(data_navigator, modeler)"
   ]
  },
  {
   "cell_type": "code",
   "execution_count": 14,
   "metadata": {},
   "outputs": [
    {
     "name": "stdout",
     "output_type": "stream",
     "text": [
      "\n",
      "Age\n",
      "==============\n",
      "Distribution Type: Gaussian\n",
      "Variable name: None\n",
      "Mean: 29.36158249158249\n",
      "Standard deviation: 13.012388272793666\n",
      "\n",
      "Fare\n",
      "==============\n",
      "Distribution Type: Gaussian\n",
      "Variable name: None\n",
      "Mean: 32.204207968574636\n",
      "Standard deviation: 49.6655344447741\n",
      "\n",
      "Pclass\n",
      "==============\n",
      "Distribution Type: Gaussian\n",
      "Variable name: None\n",
      "Mean: 0.49797120789098615\n",
      "Standard deviation: 0.2711374362662088\n",
      "\n",
      "Sex\n",
      "==============\n",
      "Distribution Type: Gaussian\n",
      "Variable name: None\n",
      "Mean: 0.499105314976713\n",
      "Standard deviation: 0.2532752962301981\n",
      "\n",
      "SibSp\n",
      "==============\n",
      "Distribution Type: Gaussian\n",
      "Variable name: None\n",
      "Mean: 0.5041073192221043\n",
      "Standard deviation: 0.2551321895621187\n",
      "\n",
      "Parch\n",
      "==============\n",
      "Distribution Type: Gaussian\n",
      "Variable name: None\n",
      "Mean: 0.49217800298342235\n",
      "Standard deviation: 0.24492259246390335\n",
      "\n",
      "Embarked\n",
      "==============\n",
      "Distribution Type: Gaussian\n",
      "Variable name: None\n",
      "Mean: 0.4995180379678339\n",
      "Standard deviation: 0.24969301054921042\n",
      "\n",
      "cabin_txt\n",
      "==============\n",
      "Distribution Type: Gaussian\n",
      "Variable name: None\n",
      "Mean: 0.49698643136152015\n",
      "Standard deviation: 0.239644650329943\n",
      "\n",
      "cabin_count\n",
      "==============\n",
      "Distribution Type: Gaussian\n",
      "Variable name: None\n",
      "Mean: 0.49620239482673906\n",
      "Standard deviation: 0.2390550865032321\n",
      "\n",
      "ticket_txt\n",
      "==============\n",
      "Distribution Type: Gaussian\n",
      "Variable name: None\n",
      "Mean: 0.49107630181786516\n",
      "Standard deviation: 0.2415282157986167\n",
      "\n",
      "Survived\n",
      "==============\n",
      "Distribution Type: Gaussian\n",
      "Variable name: None\n",
      "Mean: 0.5002981038290372\n",
      "Standard deviation: 0.2598452816457011\n",
      "\n",
      "Age_na\n",
      "==============\n",
      "Distribution Type: Gaussian\n",
      "Variable name: None\n",
      "Mean: 0.49308838677532774\n",
      "Standard deviation: 0.23737173696471048\n",
      "\n",
      "cabin_num_na\n",
      "==============\n",
      "Distribution Type: Gaussian\n",
      "Variable name: None\n",
      "Mean: 0.5022711808885273\n",
      "Standard deviation: 0.23698966690422288\n",
      "\n",
      "ticket_num_na\n",
      "==============\n",
      "Distribution Type: Gaussian\n",
      "Variable name: None\n",
      "Mean: 0.5054820990929292\n",
      "Standard deviation: 0.1703245920483152\n",
      "\n",
      "cabin_num\n",
      "==============\n",
      "Distribution Type: Gaussian\n",
      "Variable name: None\n",
      "Mean: 42.22222222222222\n",
      "Standard deviation: 17.192643220875443\n",
      "\n",
      "ticket_num\n",
      "==============\n",
      "Distribution Type: Gaussian\n",
      "Variable name: None\n",
      "Mean: 297493.1694725028\n",
      "Standard deviation: 655884.5675475259\n",
      "\n",
      "PassengerId\n",
      "==============\n",
      "Distribution Type: Gaussian\n",
      "Variable name: None\n",
      "Mean: 446.0\n",
      "Standard deviation: 257.20938292890224\n",
      "\n",
      "Covariance:\n",
      "[[ 1.0037904   0.08206856 -0.31952171  0.07387898 -0.15963315 -0.22695923\n",
      "  -0.01475428 -0.21243345 -0.21120228 -0.02563661 -0.07439149 -0.04399463\n",
      "  -0.20756772  0.03756198  0.07841537 -0.09990998  0.03364141]\n",
      " [ 0.08206856  0.68736246 -0.45258597 -0.14702142  0.18151595  0.22215896\n",
      "  -0.10489063 -0.40941274 -0.37814561 -0.1226369   0.22207939 -0.09109919\n",
      "  -0.39174221  0.02711347  0.12299142 -0.14262416 -0.00169766]\n",
      " [-0.31952171 -0.45258597  0.99758843  0.11837336 -0.03441873 -0.05965993\n",
      "   0.06572415  0.57269963  0.57113816  0.10285893 -0.30942329  0.15316358\n",
      "   0.5812083   0.00932377 -0.17463899  0.29771108 -0.03477492]\n",
      " [ 0.07387898 -0.14702142  0.11837336  1.00245569 -0.17410245 -0.20545841\n",
      "   0.05062074  0.08943099  0.06559228 -0.01379466 -0.48110276  0.05481092\n",
      "   0.07998569 -0.01745201  0.00341179  0.08360665  0.0214091 ]\n",
      " [-0.15963315  0.18151595 -0.03441873 -0.17410245  1.00220806  0.36242411\n",
      "   0.00124292 -0.00182212 -0.03421899 -0.05273072  0.05728328 -0.09940924\n",
      "  -0.00646133  0.05930869  0.00173281  0.00528237 -0.05740919]\n",
      " [-0.22695923  0.22215896 -0.05965993 -0.20545841  0.36242411  1.0003513\n",
      "   0.05148621 -0.0535594  -0.0767763  -0.03375809  0.11365548 -0.16644841\n",
      "  -0.07156559  0.05638131 -0.0370199  -0.04243582  0.00951467]\n",
      " [-0.01475428 -0.10489063  0.06572415  0.05062074  0.00124292  0.05148621\n",
      "   0.99674674  0.09617896  0.092281    0.02219385 -0.10636297 -0.15171429\n",
      "   0.08645441  0.02097801 -0.04877323  0.12553301  0.00379233]\n",
      " [-0.21243345 -0.40941274  0.57269963  0.08943099 -0.00182212 -0.0535594\n",
      "   0.09617896  0.99219247  0.7582505   0.01432733 -0.23962006  0.08992521\n",
      "   0.76199345 -0.00347936 -0.21509607  0.12124753 -0.01684407]\n",
      " [-0.21120228 -0.37814561  0.57113816  0.06559228 -0.03421899 -0.0767763\n",
      "   0.092281    0.7582505   1.00051828  0.02392647 -0.24109819  0.08601104\n",
      "   0.74267429  0.00414472 -0.20037213  0.16796034 -0.00673665]\n",
      " [-0.02563661 -0.1226369   0.10285893 -0.01379466 -0.05273072 -0.03375809\n",
      "   0.02219385  0.01432733  0.02392647  0.99647713 -0.01191834  0.06171726\n",
      "   0.0064086  -0.02873431 -0.0378892  -0.02406793  0.05186848]\n",
      " [-0.07439149  0.22207939 -0.30942329 -0.48110276  0.05728328  0.11365548\n",
      "  -0.10636297 -0.23962006 -0.24109819 -0.01191834  1.00028946 -0.0794669\n",
      "  -0.26946384 -0.00274883  0.06422496 -0.08471849 -0.00978492]\n",
      " [-0.04399463 -0.09109919  0.15316358  0.05481092 -0.09940924 -0.16644841\n",
      "  -0.15171429  0.08992521  0.08601104  0.06171726 -0.0794669   1.00322363\n",
      "   0.11442691  0.00762429  0.02666217 -0.0669416  -0.00527688]\n",
      " [-0.20756772 -0.39174221  0.5812083   0.07998569 -0.00646133 -0.07156559\n",
      "   0.08645441  0.76199345  0.74267429  0.0064086  -0.26946384  0.11442691\n",
      "   0.99732703 -0.00564798 -0.20642911  0.17845066  0.00853493]\n",
      " [ 0.03756198  0.02711347  0.00932377 -0.01745201  0.05930869  0.05638131\n",
      "   0.02097801 -0.00347936  0.00414472 -0.02873431 -0.00274883  0.00762429\n",
      "  -0.00564798  1.00407731  0.01857223  0.06126579  0.01151677]\n",
      " [ 0.07841537  0.12299142 -0.17463899  0.00341179  0.00173281 -0.0370199\n",
      "  -0.04877323 -0.21509607 -0.20037213 -0.0378892   0.06422496  0.02666217\n",
      "  -0.20642911  0.01857223  0.99100152 -0.04412624  0.01909677]\n",
      " [-0.09990998 -0.14262416  0.29771108  0.08360665  0.00528237 -0.04243582\n",
      "   0.12553301  0.12124753  0.16796034 -0.02406793 -0.08471849 -0.0669416\n",
      "   0.17845066  0.06126579 -0.04412624  1.00389226 -0.02189336]\n",
      " [ 0.03364141 -0.00169766 -0.03477492  0.0214091  -0.05740919  0.00951467\n",
      "   0.00379233 -0.01684407 -0.00673665  0.05186848 -0.00978492 -0.00527688\n",
      "   0.00853493  0.01151677  0.01909677 -0.02189336  1.00152534]]\n"
     ]
    }
   ],
   "source": [
    "print(modeler.models['titanic'])"
   ]
  },
  {
   "cell_type": "code",
   "execution_count": 15,
   "metadata": {},
   "outputs": [],
   "source": [
    "df_sampled = sampler.sample_table('titanic', reset_primary_keys=True)\n",
    "df_sampled.set_index('PassengerId', inplace=True)"
   ]
  },
  {
   "cell_type": "code",
   "execution_count": 16,
   "metadata": {},
   "outputs": [],
   "source": [
    "df_sampled.to_pickle('data/synthetic/sampled.pkl')"
   ]
  },
  {
   "cell_type": "markdown",
   "metadata": {},
   "source": [
    "## Profile tables"
   ]
  },
  {
   "cell_type": "code",
   "execution_count": 17,
   "metadata": {},
   "outputs": [],
   "source": [
    "import pandas_profiling"
   ]
  },
  {
   "cell_type": "code",
   "execution_count": 19,
   "metadata": {},
   "outputs": [
    {
     "data": {
      "text/html": [
       "\n",
       "        <iframe\n",
       "            width=\"100%\"\n",
       "            height=\"800px\"\n",
       "            src=\"ipynb_tmp/profile_1092667684.html\"\n",
       "            frameborder=\"0\"\n",
       "            allowfullscreen\n",
       "        ></iframe>\n",
       "        "
      ],
      "text/plain": [
       "<IPython.lib.display.IFrame at 0x7fbafb0f6a90>"
      ]
     },
     "metadata": {},
     "output_type": "display_data"
    },
    {
     "data": {
      "text/plain": []
     },
     "execution_count": 19,
     "metadata": {},
     "output_type": "execute_result"
    }
   ],
   "source": [
    "df_sampled.profile_report()"
   ]
  },
  {
   "cell_type": "code",
   "execution_count": 20,
   "metadata": {},
   "outputs": [
    {
     "data": {
      "text/html": [
       "\n",
       "        <iframe\n",
       "            width=\"100%\"\n",
       "            height=\"800px\"\n",
       "            src=\"ipynb_tmp/profile_7405423430.html\"\n",
       "            frameborder=\"0\"\n",
       "            allowfullscreen\n",
       "        ></iframe>\n",
       "        "
      ],
      "text/plain": [
       "<IPython.lib.display.IFrame at 0x7fbafb762128>"
      ]
     },
     "metadata": {},
     "output_type": "display_data"
    },
    {
     "data": {
      "text/plain": []
     },
     "execution_count": 20,
     "metadata": {},
     "output_type": "execute_result"
    }
   ],
   "source": [
    "df.profile_report()"
   ]
  }
 ],
 "metadata": {
  "kernelspec": {
   "display_name": "Python 3",
   "language": "python",
   "name": "python3"
  },
  "language_info": {
   "codemirror_mode": {
    "name": "ipython",
    "version": 3
   },
   "file_extension": ".py",
   "mimetype": "text/x-python",
   "name": "python",
   "nbconvert_exporter": "python",
   "pygments_lexer": "ipython3",
   "version": "3.7.3"
  }
 },
 "nbformat": 4,
 "nbformat_minor": 2
}
